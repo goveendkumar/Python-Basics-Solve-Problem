{
 "cells": [
  {
   "cell_type": "markdown",
   "id": "b870c6da-280a-4781-88f9-d92dab7811ad",
   "metadata": {},
   "source": [
    "01. Take a variable x and print \"Positive\" if x > 0, \"Negative\" if x < 0, and \"Zero\" otherwise. "
   ]
  },
  {
   "cell_type": "code",
   "execution_count": 3,
   "id": "18b77f0b-1672-4504-8f95-63498c638d36",
   "metadata": {},
   "outputs": [
    {
     "name": "stdout",
     "output_type": "stream",
     "text": [
      "Negative\n"
     ]
    }
   ],
   "source": [
    "x = -76\n",
    "if (x > 0):\n",
    "    print(\"Positive\")\n",
    "elif (x < 0):\n",
    "    print(\"Negative\")\n",
    "else:\n",
    "    print(\"Zero\")\n",
    "    "
   ]
  },
  {
   "cell_type": "markdown",
   "id": "81a7ba81-0213-4af5-8363-0095257b31b5",
   "metadata": {},
   "source": [
    "02. Take a variable y and print \" Grade A\" if y > 90, \"Grade B\" if 60 < y <= 90, and \"Grade F\" otherwise.\n",
    "y = 67\n",
    "if(y > 90):\n",
    "    print(\"Grade 'A'\")\n",
    "elif (y > 60 and y <= 90):\n",
    "    print(\"Grade 'B'\")\n",
    "else:\n",
    "    print(\"Grade 'F'\")"
   ]
  },
  {
   "cell_type": "code",
   "execution_count": 5,
   "id": "d3c68f3c-a369-4140-b1d7-42b8f51264a6",
   "metadata": {},
   "outputs": [
    {
     "name": "stdout",
     "output_type": "stream",
     "text": [
      "Grade 'B'\n"
     ]
    }
   ],
   "source": [
    "y = 67\n",
    "if(y > 90):\n",
    "    print(\"Grade 'A'\")\n",
    "elif (y > 60 and y <= 90):\n",
    "    print(\"Grade 'B'\")\n",
    "else:\n",
    "    print(\"Grade 'F'\")"
   ]
  },
  {
   "cell_type": "markdown",
   "id": "e9d908f9-d62f-4a94-a0a2-4e24e5d6df5b",
   "metadata": {},
   "source": [
    "03. Take a variable age and print \"child\" if age < 13, \"Teenager\" if 13 <= age <= 19, \"Adult\" otherwise.\n",
    "\n"
   ]
  },
  {
   "cell_type": "code",
   "execution_count": 6,
   "id": "bb76e246-0eb2-4b8a-8450-0417b082bf4d",
   "metadata": {},
   "outputs": [
    {
     "name": "stdout",
     "output_type": "stream",
     "text": [
      "Teenager\n"
     ]
    }
   ],
   "source": [
    "age = 15\n",
    "if(age < 13):\n",
    "    print(\"Child\")\n",
    "elif(age <= 13 or age <= 19):\n",
    "    print(\"Teenager\")\n",
    "else:\n",
    "    print(\"Adalt\")"
   ]
  },
  {
   "cell_type": "markdown",
   "id": "18a015a9-9bd8-40b9-895d-2c2c531d3382",
   "metadata": {},
   "source": [
    "04. Take a variable num and print \"Even\" if it is divisible by 2 else \"Odd\". "
   ]
  },
  {
   "cell_type": "code",
   "execution_count": 20,
   "id": "8102630d-7641-432b-848c-72fc2886f884",
   "metadata": {},
   "outputs": [
    {
     "name": "stdout",
     "output_type": "stream",
     "text": [
      "Even\n"
     ]
    }
   ],
   "source": [
    "num = 4\n",
    "if(num % 2 == 0):\n",
    "    print(\"Even\")\n",
    "else: \n",
    "    print(\"Odd\")"
   ]
  },
  {
   "cell_type": "markdown",
   "id": "edf5b07c-3495-44f7-b3f6-47e57fb98db3",
   "metadata": {},
   "source": [
    "5. Take a variable marks and print \"Pass\" if marks >= 40, otherwise. "
   ]
  },
  {
   "cell_type": "code",
   "execution_count": 9,
   "id": "2d59e38c-7f09-44ff-a283-f95979c55eff",
   "metadata": {},
   "outputs": [
    {
     "name": "stdout",
     "output_type": "stream",
     "text": [
      "Pass\n"
     ]
    }
   ],
   "source": [
    "marks = 60\n",
    "if(marks >= 50):\n",
    "    print(\"Pass\")\n",
    "else:\n",
    "    print(\"Fail\")"
   ]
  },
  {
   "cell_type": "markdown",
   "id": "148b1411-3eaa-463d-bd57-0be726641fe2",
   "metadata": {},
   "source": [
    "6. Take a variable temp and print \"Cold\" if temp < 20, \"Warm\" if 20 <= temp <= 35, and \"Hot\" if temp > 35. "
   ]
  },
  {
   "cell_type": "code",
   "execution_count": 30,
   "id": "188c4e45-031a-4394-9d92-142dea32314b",
   "metadata": {},
   "outputs": [
    {
     "name": "stdout",
     "output_type": "stream",
     "text": [
      "Hot\n"
     ]
    }
   ],
   "source": [
    "temp = 37\n",
    "if(temp < 20):\n",
    "    print(\"Cold\")\n",
    "elif(temp <= 20 or temp <= 35):\n",
    "    print(\"Warm\")\n",
    "elif(temp > 35):\n",
    "    print(\"Hot\")"
   ]
  },
  {
   "cell_type": "markdown",
   "id": "d8eaf905-2610-40e8-b777-903a5a33c598",
   "metadata": {},
   "source": [
    "7. Take a variable speed and print \"Over Speed\" if speed > 120, \"Normal Speed\" if 60 <= speed <= 120 and \"Slow Speed\" if speed < 60."
   ]
  },
  {
   "cell_type": "code",
   "execution_count": 37,
   "id": "bd9fc9c2-5c64-4467-a62b-bbf2ffb6c8ea",
   "metadata": {},
   "outputs": [
    {
     "name": "stdout",
     "output_type": "stream",
     "text": [
      "Slow Speed\n"
     ]
    }
   ],
   "source": [
    "speed = 54\n",
    "if(speed > 120):\n",
    "    print(\"Over Speed\")\n",
    "elif(speed >= 60 and speed <= 120):\n",
    "    print(\"Normal Speed\")\n",
    "elif(speed < 60): \n",
    "    print(\"Slow Speed\")"
   ]
  },
  {
   "cell_type": "markdown",
   "id": "465e84bf-ace3-488b-838d-868d2be49ec1",
   "metadata": {},
   "source": [
    "8. Take a variable year and print \"Leap Year\" if divisible by 4 but not 100, or divisible by 400. otherwise print \"Not Leap Year\"."
   ]
  },
  {
   "cell_type": "code",
   "execution_count": 41,
   "id": "5b013713-7ea0-4d7a-9234-6c62c20bb5fe",
   "metadata": {},
   "outputs": [
    {
     "name": "stdout",
     "output_type": "stream",
     "text": [
      "Not a Leap Year\n"
     ]
    }
   ],
   "source": [
    "year = 2023\n",
    "if(year % 4 == 0 or year % 400 == 0 and year % 100 != 0):\n",
    "    print(\"Leap Year\")\n",
    "else:\n",
    "    print(\"Not a Leap Year\")"
   ]
  },
  {
   "cell_type": "markdown",
   "id": "66924e69-42b4-4b98-ab8c-cbad55187b19",
   "metadata": {},
   "source": [
    "9. Take a variable salary and print \"High Income\" if salary > 100000, \"Medium Income\" if 50000 >= salary <= 100000, and \"Low Income\" otherwise. \n",
    "\n",
    "        "
   ]
  },
  {
   "cell_type": "code",
   "execution_count": 11,
   "id": "6a3761f3-7224-4a77-87da-696fd728e339",
   "metadata": {},
   "outputs": [
    {
     "name": "stdout",
     "output_type": "stream",
     "text": [
      "Medium Income\n"
     ]
    }
   ],
   "source": [
    "salary = 100000\n",
    "if(salary > 100000):\n",
    "    print(\"High Income\")\n",
    "elif(salary >= 50000 and salary <= 100000):\n",
    "    print(\"Medium Income\")\n",
    "else:\n",
    "    print(\"Low Income\")\n",
    "        "
   ]
  },
  {
   "cell_type": "markdown",
   "id": "9b22b689-fa7e-40b9-a0e4-66fcdab88389",
   "metadata": {},
   "source": [
    "10. Take a variable num and print \" Multiple of 3\" if divisible by 3, \"Multiple  of 5\" if divisible by 5, \"Multiple of Both\" if divisible by 3 and 5 otherwise \"Not a Multiple of 3 or 5\""
   ]
  },
  {
   "cell_type": "code",
   "execution_count": 12,
   "id": "c2ab758d-265e-4128-8e96-4b69e6d1243c",
   "metadata": {},
   "outputs": [
    {
     "name": "stdout",
     "output_type": "stream",
     "text": [
      "Multiple of 5\n"
     ]
    }
   ],
   "source": [
    "num = 5\n",
    "if(num % 3 == 0):\n",
    "    print(\"Multiple of 3\")\n",
    "elif(num % 5 == 0):\n",
    "    print(\"Multiple of 5\")\n",
    "else:\n",
    "    print(\"Not a multiple of 3 and  5\")"
   ]
  },
  {
   "cell_type": "code",
   "execution_count": null,
   "id": "644ebe58-066c-4a30-8d01-b2040defbe11",
   "metadata": {},
   "outputs": [],
   "source": []
  }
 ],
 "metadata": {
  "kernelspec": {
   "display_name": "base",
   "language": "python",
   "name": "python3"
  },
  "language_info": {
   "codemirror_mode": {
    "name": "ipython",
    "version": 3
   },
   "file_extension": ".py",
   "mimetype": "text/x-python",
   "name": "python",
   "nbconvert_exporter": "python",
   "pygments_lexer": "ipython3",
   "version": "3.13.5"
  }
 },
 "nbformat": 4,
 "nbformat_minor": 5
}
